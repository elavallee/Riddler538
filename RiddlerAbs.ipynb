{
 "cells": [
  {
   "cell_type": "markdown",
   "metadata": {},
   "source": [
    "# Riddler interpretation of absolute value symbols\n",
    "In this week's [Riddler Classic](https://fivethirtyeight.com/features/how-many-more-palindrome-dates-will-you-see/), we are asked to find all the possible values for the ambiguously framed equation: |-1|-2|-3|-4|-5|-6|-7|-8|-9|. I suppose one could use reason to obtain the answer rather quickly, but it is also fun to program all the possible interpretations. To do so, I'll make use of the combinations iterator within the Python module itertools, and make use of recursion. I'll keep track of all the unique values with a global set."
   ]
  },
  {
   "cell_type": "code",
   "execution_count": 20,
   "metadata": {},
   "outputs": [],
   "source": [
    "from itertools import combinations\n",
    "from functools import lru_cache\n",
    "import re\n",
    "\n",
    "eqn = \"|-1|-2|-3|-4|-5|-6|-7|-8|-9|\"\n",
    "\n",
    "idxs = (0, 3, 6, 9, 12, 15, 18, 21, 24, 27)\n",
    "\n",
    "vals = set()\n",
    "\n",
    "txt = set()\n",
    "\n",
    "@lru_cache()\n",
    "def findAll(eqn, idxs):\n",
    "    \"Find all possible interpretations of the equation.\"\n",
    "    global txt, vals\n",
    "    for pair in combinations(idxs, 2):\n",
    "        left, right = min(pair), max(pair)\n",
    "        newEqn = eqn[:left] + '*abs(' + eqn[left+1:right] + ')*' + eqn[right+1:]\n",
    "        newIdxs = []\n",
    "        for m in re.finditer(r'\\|', newEqn):\n",
    "            newIdxs.append(m.start())\n",
    "        if newIdxs == []:\n",
    "            newEqn = re.sub(r'\\*{2,}', '**', newEqn)\n",
    "            newEqn = newEqn[1:-1]\n",
    "            val = eval(newEqn)\n",
    "            vals.add(val)\n",
    "            txt.add(\"{} = {}\".format(newEqn, val))\n",
    "        else:\n",
    "            newIdxs = tuple(newIdxs)\n",
    "            findAll(newEqn, newIdxs)\n",
    "            \n",
    "findAll(eqn, idxs)"
   ]
  },
  {
   "cell_type": "markdown",
   "metadata": {},
   "source": [
    "For fun, here are the number of possible interpretations for the equation:"
   ]
  },
  {
   "cell_type": "code",
   "execution_count": 21,
   "metadata": {},
   "outputs": [
    {
     "data": {
      "text/plain": [
       "42"
      ]
     },
     "execution_count": 21,
     "metadata": {},
     "output_type": "execute_result"
    }
   ],
   "source": [
    "len(txt)"
   ]
  },
  {
   "cell_type": "markdown",
   "metadata": {},
   "source": [
    "But to answer the question as I understand it, we need to know the number of unique values for all the equations."
   ]
  },
  {
   "cell_type": "code",
   "execution_count": 22,
   "metadata": {},
   "outputs": [
    {
     "data": {
      "text/plain": [
       "2"
      ]
     },
     "execution_count": 22,
     "metadata": {},
     "output_type": "execute_result"
    }
   ],
   "source": [
    "len(vals)"
   ]
  },
  {
   "cell_type": "markdown",
   "metadata": {},
   "source": [
    "And for more fun, here are all of the possible interpretations of the original equation:"
   ]
  },
  {
   "cell_type": "code",
   "execution_count": 23,
   "metadata": {},
   "outputs": [
    {
     "name": "stdout",
     "output_type": "stream",
     "text": [
      "abs(-1*abs(-2)*-3)*-4*abs(-5*abs(-6)*-7*abs(-8)*-9) = -362880\n",
      "abs(-1*abs(-2*abs(-3)*-4)*-5*abs(-6)*-7)*-8*abs(-9) = -362880\n",
      "abs(-1)*-2*abs(-3)*-4*abs(-5*abs(-6)*-7*abs(-8)*-9) = 362880\n",
      "abs(-1)*-2*abs(-3)*-4*abs(-5)*-6*abs(-7)*-8*abs(-9) = 362880\n",
      "abs(-1*abs(-2)*-3*abs(-4*abs(-5*abs(-6)*-7)*-8)*-9) = 362880\n",
      "abs(-1*abs(-2*abs(-3)*-4)*-5)*-6*abs(-7*abs(-8)*-9) = -362880\n",
      "abs(-1*abs(-2*abs(-3)*-4*abs(-5)*-6)*-7*abs(-8)*-9) = 362880\n",
      "abs(-1)*-2*abs(-3*abs(-4)*-5*abs(-6)*-7)*-8*abs(-9) = 362880\n",
      "abs(-1*abs(-2)*-3)*-4*abs(-5)*-6*abs(-7*abs(-8)*-9) = 362880\n",
      "abs(-1)*-2*abs(-3*abs(-4*abs(-5*abs(-6)*-7)*-8)*-9) = -362880\n",
      "abs(-1*abs(-2)*-3*abs(-4)*-5*abs(-6*abs(-7)*-8)*-9) = 362880\n",
      "abs(-1*abs(-2*abs(-3)*-4)*-5*abs(-6)*-7*abs(-8)*-9) = 362880\n",
      "abs(-1*abs(-2)*-3)*-4*abs(-5*abs(-6*abs(-7)*-8)*-9) = -362880\n",
      "abs(-1*abs(-2)*-3)*-4*abs(-5)*-6*abs(-7)*-8*abs(-9) = -362880\n",
      "abs(-1)*-2*abs(-3*abs(-4*abs(-5)*-6)*-7)*-8*abs(-9) = 362880\n",
      "abs(-1)*-2*abs(-3*abs(-4)*-5)*-6*abs(-7)*-8*abs(-9) = -362880\n",
      "abs(-1*abs(-2)*-3*abs(-4)*-5*abs(-6)*-7)*-8*abs(-9) = -362880\n",
      "abs(-1*abs(-2)*-3*abs(-4*abs(-5)*-6)*-7*abs(-8)*-9) = 362880\n",
      "abs(-1*abs(-2)*-3*abs(-4)*-5)*-6*abs(-7)*-8*abs(-9) = 362880\n",
      "abs(-1*abs(-2)*-3*abs(-4*abs(-5)*-6*abs(-7)*-8)*-9) = 362880\n",
      "abs(-1*abs(-2)*-3*abs(-4)*-5)*-6*abs(-7*abs(-8)*-9) = -362880\n",
      "abs(-1)*-2*abs(-3*abs(-4*abs(-5)*-6*abs(-7)*-8)*-9) = -362880\n",
      "abs(-1*abs(-2*abs(-3*abs(-4)*-5)*-6)*-7*abs(-8)*-9) = 362880\n",
      "abs(-1)*-2*abs(-3*abs(-4)*-5)*-6*abs(-7*abs(-8)*-9) = 362880\n",
      "abs(-1*abs(-2)*-3)*-4*abs(-5*abs(-6)*-7)*-8*abs(-9) = 362880\n",
      "abs(-1)*-2*abs(-3*abs(-4)*-5*abs(-6*abs(-7)*-8)*-9) = -362880\n",
      "abs(-1)*-2*abs(-3)*-4*abs(-5*abs(-6*abs(-7)*-8)*-9) = 362880\n",
      "abs(-1)*-2*abs(-3)*-4*abs(-5*abs(-6)*-7)*-8*abs(-9) = -362880\n",
      "abs(-1*abs(-2*abs(-3)*-4*abs(-5)*-6*abs(-7)*-8)*-9) = 362880\n",
      "abs(-1*abs(-2*abs(-3*abs(-4)*-5)*-6)*-7)*-8*abs(-9) = -362880\n",
      "abs(-1)*-2*abs(-3*abs(-4*abs(-5)*-6)*-7*abs(-8)*-9) = -362880\n",
      "abs(-1)*-2*abs(-3)*-4*abs(-5)*-6*abs(-7*abs(-8)*-9) = -362880\n",
      "abs(-1*abs(-2*abs(-3)*-4)*-5)*-6*abs(-7)*-8*abs(-9) = 362880\n",
      "abs(-1*abs(-2*abs(-3)*-4)*-5*abs(-6*abs(-7)*-8)*-9) = 362880\n",
      "abs(-1)*-2*abs(-3*abs(-4)*-5*abs(-6)*-7*abs(-8)*-9) = -362880\n",
      "abs(-1*abs(-2*abs(-3)*-4*abs(-5*abs(-6)*-7)*-8)*-9) = 362880\n",
      "abs(-1*abs(-2*abs(-3*abs(-4)*-5)*-6*abs(-7)*-8)*-9) = 362880\n",
      "abs(-1*abs(-2*abs(-3*abs(-4)*-5*abs(-6)*-7)*-8)*-9) = 362880\n",
      "abs(-1*abs(-2)*-3*abs(-4)*-5*abs(-6)*-7*abs(-8)*-9) = 362880\n",
      "abs(-1*abs(-2*abs(-3*abs(-4*abs(-5)*-6)*-7)*-8)*-9) = 362880\n",
      "abs(-1*abs(-2)*-3*abs(-4*abs(-5)*-6)*-7)*-8*abs(-9) = -362880\n",
      "abs(-1*abs(-2*abs(-3)*-4*abs(-5)*-6)*-7)*-8*abs(-9) = -362880\n"
     ]
    }
   ],
   "source": [
    "print('\\n'.join(txt))"
   ]
  }
 ],
 "metadata": {
  "kernelspec": {
   "display_name": "Python 3",
   "language": "python",
   "name": "python3"
  },
  "language_info": {
   "codemirror_mode": {
    "name": "ipython",
    "version": 3
   },
   "file_extension": ".py",
   "mimetype": "text/x-python",
   "name": "python",
   "nbconvert_exporter": "python",
   "pygments_lexer": "ipython3",
   "version": "3.7.4"
  }
 },
 "nbformat": 4,
 "nbformat_minor": 2
}
