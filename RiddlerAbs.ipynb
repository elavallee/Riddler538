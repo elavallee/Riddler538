{
 "cells": [
  {
   "cell_type": "markdown",
   "metadata": {},
   "source": [
    "# Riddler interpretation of absolute value symbols\n",
    "In this week's [Riddler Classic](https://fivethirtyeight.com/features/how-many-more-palindrome-dates-will-you-see/), we are asked to find all the possible values for the ambiguously framed equation: |-1|-2|-3|-4|-5|-6|-7|-8|-9|. I am going to program all the possible interpretations. To do so, I'll make use of the combinations iterator within the Python module itertools, and make use of recursion. I'll keep track of all the unique values with a global set."
   ]
  },
  {
   "cell_type": "code",
   "execution_count": 1,
   "metadata": {},
   "outputs": [],
   "source": [
    "from itertools import combinations\n",
    "from functools import lru_cache\n",
    "import re\n",
    "\n",
    "eqn = \"|-1|-2|-3|-4|-5|-6|-7|-8|-9|\"\n",
    "\n",
    "idxs = (0, 3, 6, 9, 12, 15, 18, 21, 24, 27)\n",
    "\n",
    "vals = set()\n",
    "\n",
    "txt = set()\n",
    "\n",
    "@lru_cache()\n",
    "def findAll(eqn, idxs):\n",
    "    \"Find all possible interpretations of the equation.\"\n",
    "    global txt, vals\n",
    "    for pair in combinations(idxs, 2):\n",
    "        left, right = min(pair), max(pair)\n",
    "        newEqn = eqn[:left] + '*abs(' + eqn[left+1:right] + ')' + eqn[right+1:]\n",
    "        newIdxs = []\n",
    "        for m in re.finditer(r'\\|', newEqn):\n",
    "            newIdxs.append(m.start())\n",
    "        if newIdxs == []:\n",
    "            newEqn = newEqn[1:]\n",
    "            val = eval(newEqn)\n",
    "            vals.add(val)\n",
    "            txt.add(\"{} = {}\".format(newEqn, val))\n",
    "        else:\n",
    "            newIdxs = tuple(newIdxs)\n",
    "            findAll(newEqn, newIdxs)\n",
    "            \n",
    "findAll(eqn, idxs)"
   ]
  },
  {
   "cell_type": "markdown",
   "metadata": {},
   "source": [
    "For fun, here are the number of possible interpretations for the equation:"
   ]
  },
  {
   "cell_type": "code",
   "execution_count": 2,
   "metadata": {},
   "outputs": [
    {
     "data": {
      "text/plain": [
       "42"
      ]
     },
     "execution_count": 2,
     "metadata": {},
     "output_type": "execute_result"
    }
   ],
   "source": [
    "len(txt)"
   ]
  },
  {
   "cell_type": "markdown",
   "metadata": {},
   "source": [
    "But to answer the question as I understand it, we need to know the number of unique values for all the equations."
   ]
  },
  {
   "cell_type": "code",
   "execution_count": 3,
   "metadata": {},
   "outputs": [
    {
     "data": {
      "text/plain": [
       "39"
      ]
     },
     "execution_count": 3,
     "metadata": {},
     "output_type": "execute_result"
    }
   ],
   "source": [
    "len(vals)"
   ]
  },
  {
   "cell_type": "markdown",
   "metadata": {},
   "source": [
    "And for more fun, here are all of the possible interpretations of the original equation:"
   ]
  },
  {
   "cell_type": "code",
   "execution_count": 4,
   "metadata": {},
   "outputs": [
    {
     "name": "stdout",
     "output_type": "stream",
     "text": [
      "abs(-1*abs(-2)-3*abs(-4*abs(-5)-6)-7)-8*abs(-9) = 15\n",
      "abs(-1*abs(-2)-3*abs(-4)-5*abs(-6)-7)-8*abs(-9) = -21\n",
      "abs(-1*abs(-2*abs(-3)-4*abs(-5*abs(-6)-7)-8)-9) = 171\n",
      "abs(-1*abs(-2)-3)-4*abs(-5)-6*abs(-7)-8*abs(-9) = -129\n",
      "abs(-1*abs(-2)-3*abs(-4*abs(-5)-6)-7*abs(-8)-9) = 145\n",
      "abs(-1)-2*abs(-3*abs(-4*abs(-5)-6)-7*abs(-8)-9) = -285\n",
      "abs(-1*abs(-2)-3*abs(-4)-5*abs(-6*abs(-7)-8)-9) = 273\n",
      "abs(-1*abs(-2*abs(-3)-4*abs(-5)-6*abs(-7)-8)-9) = 85\n",
      "abs(-1*abs(-2)-3*abs(-4)-5)-6*abs(-7)-8*abs(-9) = -95\n",
      "abs(-1)-2*abs(-3*abs(-4)-5*abs(-6)-7*abs(-8)-9) = -213\n",
      "abs(-1*abs(-2*abs(-3)-4)-5*abs(-6)-7*abs(-8)-9) = 105\n",
      "abs(-1)-2*abs(-3)-4*abs(-5)-6*abs(-7*abs(-8)-9) = -415\n",
      "abs(-1)-2*abs(-3*abs(-4*abs(-5*abs(-6)-7)-8)-9) = -953\n",
      "abs(-1)-2*abs(-3)-4*abs(-5*abs(-6)-7*abs(-8)-9) = -385\n",
      "abs(-1*abs(-2)-3*abs(-4*abs(-5)-6*abs(-7)-8)-9) = 221\n",
      "abs(-1)-2*abs(-3*abs(-4)-5)-6*abs(-7*abs(-8)-9) = -423\n",
      "abs(-1)-2*abs(-3)-4*abs(-5*abs(-6*abs(-7)-8)-9) = -1041\n",
      "abs(-1)-2*abs(-3*abs(-4)-5*abs(-6*abs(-7)-8)-9) = -541\n",
      "abs(-1*abs(-2*abs(-3*abs(-4)-5)-6)-7*abs(-8)-9) = 105\n",
      "abs(-1*abs(-2*abs(-3*abs(-4)-5)-6)-7)-8*abs(-9) = -25\n",
      "abs(-1*abs(-2*abs(-3*abs(-4)-5)-6*abs(-7)-8)-9) = 93\n",
      "abs(-1)-2*abs(-3)-4*abs(-5*abs(-6)-7)-8*abs(-9) = -225\n",
      "abs(-1*abs(-2)-3)-4*abs(-5*abs(-6*abs(-7)-8)-9) = -1031\n",
      "abs(-1*abs(-2*abs(-3)-4)-5*abs(-6*abs(-7)-8)-9) = 269\n",
      "abs(-1)-2*abs(-3)-4*abs(-5)-6*abs(-7)-8*abs(-9) = -139\n",
      "abs(-1*abs(-2)-3)-4*abs(-5)-6*abs(-7*abs(-8)-9) = -405\n",
      "abs(-1*abs(-2)-3)-4*abs(-5*abs(-6)-7)-8*abs(-9) = -215\n",
      "abs(-1*abs(-2)-3*abs(-4)-5)-6*abs(-7*abs(-8)-9) = -371\n",
      "abs(-1*abs(-2)-3*abs(-4)-5*abs(-6)-7*abs(-8)-9) = 109\n",
      "abs(-1*abs(-2*abs(-3*abs(-4*abs(-5)-6)-7)-8)-9) = 187\n",
      "abs(-1*abs(-2)-3*abs(-4*abs(-5*abs(-6)-7)-8)-9) = 479\n",
      "abs(-1*abs(-2)-3)-4*abs(-5*abs(-6)-7*abs(-8)-9) = -375\n",
      "abs(-1)-2*abs(-3*abs(-4)-5*abs(-6)-7)-8*abs(-9) = -169\n",
      "abs(-1*abs(-2*abs(-3*abs(-4)-5*abs(-6)-7)-8)-9) = 115\n",
      "abs(-1*abs(-2*abs(-3)-4)-5)-6*abs(-7*abs(-8)-9) = -375\n",
      "abs(-1)-2*abs(-3*abs(-4*abs(-5)-6)-7)-8*abs(-9) = -241\n",
      "abs(-1)-2*abs(-3*abs(-4*abs(-5)-6*abs(-7)-8)-9) = -437\n",
      "abs(-1*abs(-2*abs(-3)-4)-5)-6*abs(-7)-8*abs(-9) = -99\n",
      "abs(-1*abs(-2*abs(-3)-4*abs(-5)-6)-7*abs(-8)-9) = 97\n",
      "abs(-1*abs(-2*abs(-3)-4)-5*abs(-6)-7)-8*abs(-9) = -25\n",
      "abs(-1)-2*abs(-3*abs(-4)-5)-6*abs(-7)-8*abs(-9) = -147\n",
      "abs(-1*abs(-2*abs(-3)-4*abs(-5)-6)-7)-8*abs(-9) = -33\n"
     ]
    }
   ],
   "source": [
    "print('\\n'.join(txt))"
   ]
  }
 ],
 "metadata": {
  "kernelspec": {
   "display_name": "Python 3",
   "language": "python",
   "name": "python3"
  },
  "language_info": {
   "codemirror_mode": {
    "name": "ipython",
    "version": 3
   },
   "file_extension": ".py",
   "mimetype": "text/x-python",
   "name": "python",
   "nbconvert_exporter": "python",
   "pygments_lexer": "ipython3",
   "version": "3.7.4"
  }
 },
 "nbformat": 4,
 "nbformat_minor": 2
}
